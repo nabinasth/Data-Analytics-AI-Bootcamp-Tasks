{
 "cells": [
  {
   "cell_type": "markdown",
   "id": "82753234-950c-471a-857b-ee724b990c96",
   "metadata": {},
   "source": [
    "Task 1: Create a simple calculator\n",
    "• Task: Create a simple calculator that performs basic arithmetic operations.\n",
    "• Instructions:\n",
    "– Prompt the user for two numbers and an operation (addition, subtraction,\n",
    "multiplication, or division).\n",
    "– Use conditional statements to perform the requested operation and display the\n",
    "result."
   ]
  },
  {
   "cell_type": "code",
   "execution_count": null,
   "id": "a4d74db8-68d6-405e-8fe1-56285ee61eaf",
   "metadata": {},
   "outputs": [],
   "source": [
    "num1 = float(input(\"Enter the first number: \" ))\n",
    "num2 = float(input(\"Enter the second number: \"))\n",
    "operation= input(\"Choose an operation (+,-,*,/): \")\n",
    "if operation == '+':\n",
    "    result = num1 + num2\n",
    "    print(\"result: \",result)\n",
    "elif operation == '-':\n",
    "    result = num1-num2\n",
    "    print(\"Result: \", result)\n",
    "elif operation == '*':\n",
    "    result = num1 * num2\n",
    "    print(\"Result: \", result)\n",
    "elif operation == '/':\n",
    "    if num2 != 0:\n",
    "        result = num1/num2\n",
    "        print(\"Result: \", result)\n",
    "    else:\n",
    "        print(\"Error: Division by zero is not allowed.\")\n",
    "else:\n",
    "    print(\"Invalid operation selected.\")\n"
   ]
  },
  {
   "cell_type": "markdown",
   "id": "12a14f83-81bd-46c8-b948-5b7339f1f552",
   "metadata": {},
   "source": [
    "Find the Maximum and Minimum of a List\n",
    "– Question: Given a list of numbers, find the maximum and minimum values."
   ]
  },
  {
   "cell_type": "code",
   "execution_count": 6,
   "id": "f5d89df2-dff5-458a-bc26-d40186c66eac",
   "metadata": {},
   "outputs": [
    {
     "name": "stdout",
     "output_type": "stream",
     "text": [
      "Maximum:  42\n",
      "Minimum:  1\n"
     ]
    }
   ],
   "source": [
    "# Find max and min of a list\n",
    "numbers = [8,3,15,6,42,1]\n",
    "maximum = max(numbers)\n",
    "minimum = min(numbers)\n",
    "print(\"Maximum: \",maximum)\n",
    "print(\"Minimum: \",minimum)"
   ]
  },
  {
   "cell_type": "markdown",
   "id": "7a1bb788-2217-4ddd-81c7-f2d62b38f38b",
   "metadata": {},
   "source": [
    "Check for Prime Number\n",
    "– Question: Write a function to check if a given number is a prime number."
   ]
  },
  {
   "cell_type": "code",
   "execution_count": 10,
   "id": "16139f47-aad4-4c29-a6fa-89f23c41a97f",
   "metadata": {},
   "outputs": [
    {
     "name": "stdin",
     "output_type": "stream",
     "text": [
      "Enter a number to check prime num: 6\n"
     ]
    },
    {
     "name": "stdout",
     "output_type": "stream",
     "text": [
      "6 is not a prime number\n"
     ]
    }
   ],
   "source": [
    "def is_prime(n):\n",
    "    if n <= 1:\n",
    "        return False\n",
    "    for i in range(2, int(n**0.5)+1):\n",
    "        if n % i == 0:\n",
    "            return False\n",
    "    return True\n",
    "\n",
    "num= int(input(\"Enter a number to check prime num:\" ))\n",
    "if is_prime(num):\n",
    "    print(num,\"is a prime number.\")\n",
    "else:\n",
    "    print(num,\"is not a prime number\")\n",
    "         "
   ]
  },
  {
   "cell_type": "markdown",
   "id": "f7d1a9d2-30ec-418e-9be3-43f346e6f587",
   "metadata": {},
   "source": [
    "Factorial of a Number\n",
    "– Question: Compute the factorial of a given number using recursion."
   ]
  },
  {
   "cell_type": "code",
   "execution_count": 13,
   "id": "4326230e-ba01-43cb-8470-86dd74b4c594",
   "metadata": {},
   "outputs": [
    {
     "name": "stdin",
     "output_type": "stream",
     "text": [
      "Enter a number to find its factorial:  4\n"
     ]
    },
    {
     "name": "stdout",
     "output_type": "stream",
     "text": [
      "Factorial of 4 is 24\n"
     ]
    }
   ],
   "source": [
    "def factorial (n):\n",
    "    if n == 0  or n==1:\n",
    "        return 1\n",
    "    else:\n",
    "        return n * factorial(n-1)\n",
    "num = int(input(\"Enter a number to find its factorial: \"))\n",
    "print(\"Factorial of\", num , \"is\", factorial(num))"
   ]
  },
  {
   "cell_type": "markdown",
   "id": "26bd27fc-ceee-4551-b050-8d366d51db50",
   "metadata": {},
   "source": [
    "Fibonacci Sequence\n",
    " Question: Generate the Fibonacci sequence up to a given number of terms."
   ]
  },
  {
   "cell_type": "code",
   "execution_count": null,
   "id": "49cb3f4a-1f4d-4997-bd9d-af428a371cd0",
   "metadata": {},
   "outputs": [],
   "source": [
    "def fibonacci(n):\n",
    "    sequence = []\n",
    "    a, b = 0, 1\n",
    "    for _ in range(n):\n",
    "        sequence.append(a)\n",
    "        a, b = b, a + b\n",
    "    return sequence\n",
    "\n",
    "# Example usage\n",
    "terms = int(input(\"Enter number of terms for Fibonacci sequence: \"))\n",
    "print(\"Fibonacci sequence:\", fibonacci(terms))"
   ]
  }
 ],
 "metadata": {
  "kernelspec": {
   "display_name": "Python 3 (ipykernel)",
   "language": "python",
   "name": "python3"
  },
  "language_info": {
   "codemirror_mode": {
    "name": "ipython",
    "version": 3
   },
   "file_extension": ".py",
   "mimetype": "text/x-python",
   "name": "python",
   "nbconvert_exporter": "python",
   "pygments_lexer": "ipython3",
   "version": "3.11.7"
  }
 },
 "nbformat": 4,
 "nbformat_minor": 5
}
