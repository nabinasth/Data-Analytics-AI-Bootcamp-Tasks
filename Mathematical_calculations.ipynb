{
 "cells": [
  {
   "cell_type": "markdown",
   "id": "bdea27c1",
   "metadata": {},
   "source": [
    "Task 1: Simple Voting Eligibility Check\n",
    "Task: Write a program that checks if a user is eligible to vote.\n",
    "Ask the user for their age and use a conditional statement to check if they are atleast 18 years old."
   ]
  },
  {
   "cell_type": "code",
   "execution_count": 4,
   "id": "1a2d1301",
   "metadata": {},
   "outputs": [
    {
     "name": "stdout",
     "output_type": "stream",
     "text": [
      "You are eligible to vote!\n"
     ]
    }
   ],
   "source": [
    "age = int(input(\"Enter your age: \"))\n",
    "\n",
    "if age >= 18:\n",
    "    print(\"You are eligible to vote!\")\n",
    "else:\n",
    "    print(\"You are not eligible to vote yet.\")"
   ]
  },
  {
   "cell_type": "markdown",
   "id": "82753234-950c-471a-857b-ee724b990c96",
   "metadata": {},
   "source": [
    "Task 1: Create a simple calculator\n",
    "• Task: Create a simple calculator that performs basic arithmetic operations.\n",
    "• Instructions:\n",
    "– Prompt the user for two numbers and an operation (addition, subtraction,\n",
    "multiplication, or division).\n",
    "– Use conditional statements to perform the requested operation and display the\n",
    "result."
   ]
  },
  {
   "cell_type": "code",
   "execution_count": 3,
   "id": "a4d74db8-68d6-405e-8fe1-56285ee61eaf",
   "metadata": {},
   "outputs": [
    {
     "name": "stdout",
     "output_type": "stream",
     "text": [
      "result:  23.0\n"
     ]
    }
   ],
   "source": [
    "num1 = float(input(\"Enter the first number: \" ))\n",
    "num2 = float(input(\"Enter the second number: \"))\n",
    "operation= input(\"Choose an operation (+,-,*,/): \")\n",
    "if operation == '+':\n",
    "    result = num1 + num2\n",
    "    print(\"result: \",result)\n",
    "elif operation == '-':\n",
    "    result = num1-num2\n",
    "    print(\"Result: \", result)\n",
    "elif operation == '*':\n",
    "    result = num1 * num2\n",
    "    print(\"Result: \", result)\n",
    "elif operation == '/':\n",
    "    if num2 != 0:\n",
    "        result = num1/num2\n",
    "        print(\"Result: \", result)\n",
    "    else:\n",
    "        print(\"Error: Division by zero is not allowed.\")\n",
    "else:\n",
    "    print(\"Invalid operation selected.\")\n"
   ]
  },
  {
   "cell_type": "markdown",
   "id": "12a14f83-81bd-46c8-b948-5b7339f1f552",
   "metadata": {},
   "source": [
    "Find the Maximum and Minimum of a List\n",
    "– Question: Given a list of numbers, find the maximum and minimum values."
   ]
  },
  {
   "cell_type": "code",
   "execution_count": 6,
   "id": "f5d89df2-dff5-458a-bc26-d40186c66eac",
   "metadata": {},
   "outputs": [
    {
     "name": "stdout",
     "output_type": "stream",
     "text": [
      "Maximum:  42\n",
      "Minimum:  1\n"
     ]
    }
   ],
   "source": [
    "# Find max and min of a list\n",
    "numbers = [8,3,15,6,42,1]\n",
    "maximum = max(numbers)\n",
    "minimum = min(numbers)\n",
    "print(\"Maximum: \",maximum)\n",
    "print(\"Minimum: \",minimum)"
   ]
  },
  {
   "cell_type": "markdown",
   "id": "7a1bb788-2217-4ddd-81c7-f2d62b38f38b",
   "metadata": {},
   "source": [
    "Check for Prime Number\n",
    "– Question: Write a function to check if a given number is a prime number."
   ]
  },
  {
   "cell_type": "code",
   "execution_count": 10,
   "id": "16139f47-aad4-4c29-a6fa-89f23c41a97f",
   "metadata": {},
   "outputs": [
    {
     "name": "stdout",
     "output_type": "stream",
     "text": [
      "Enter a number to check prime num: 6\n"
     ]
    },
    {
     "name": "stdout",
     "output_type": "stream",
     "text": [
      "6 is not a prime number\n"
     ]
    }
   ],
   "source": [
    "def is_prime(n):\n",
    "    if n <= 1:\n",
    "        return False\n",
    "    for i in range(2, int(n**0.5)+1):\n",
    "        if n % i == 0:\n",
    "            return False\n",
    "    return True\n",
    "\n",
    "num= int(input(\"Enter a number to check prime num:\" ))\n",
    "if is_prime(num):\n",
    "    print(num,\"is a prime number.\")\n",
    "else:\n",
    "    print(num,\"is not a prime number\")\n",
    "         "
   ]
  },
  {
   "cell_type": "markdown",
   "id": "f7d1a9d2-30ec-418e-9be3-43f346e6f587",
   "metadata": {},
   "source": [
    "Factorial of a Number\n",
    "– Question: Compute the factorial of a given number using recursion."
   ]
  },
  {
   "cell_type": "code",
   "execution_count": 13,
   "id": "4326230e-ba01-43cb-8470-86dd74b4c594",
   "metadata": {},
   "outputs": [
    {
     "name": "stdout",
     "output_type": "stream",
     "text": [
      "Enter a number to find its factorial:  4\n"
     ]
    },
    {
     "name": "stdout",
     "output_type": "stream",
     "text": [
      "Factorial of 4 is 24\n"
     ]
    }
   ],
   "source": [
    "def factorial (n):\n",
    "    if n == 0  or n==1:\n",
    "        return 1\n",
    "    else:\n",
    "        return n * factorial(n-1)\n",
    "num = int(input(\"Enter a number to find its factorial: \"))\n",
    "print(\"Factorial of\", num , \"is\", factorial(num))"
   ]
  },
  {
   "cell_type": "markdown",
   "id": "26bd27fc-ceee-4551-b050-8d366d51db50",
   "metadata": {},
   "source": [
    "Fibonacci Sequence\n",
    " Question: Generate the Fibonacci sequence up to a given number of terms."
   ]
  },
  {
   "cell_type": "code",
   "execution_count": 5,
   "id": "49cb3f4a-1f4d-4997-bd9d-af428a371cd0",
   "metadata": {},
   "outputs": [
    {
     "name": "stdout",
     "output_type": "stream",
     "text": [
      "Fibonacci sequence: [0, 1, 1, 2, 3, 5]\n"
     ]
    }
   ],
   "source": [
    "def fibonacci(n):\n",
    "    sequence = []\n",
    "    a, b = 0, 1\n",
    "    for _ in range(n):\n",
    "        sequence.append(a)\n",
    "        a, b = b, a + b\n",
    "    return sequence\n",
    "\n",
    "terms = int(input(\"Enter number of terms for Fibonacci sequence: \"))\n",
    "print(\"Fibonacci sequence:\", fibonacci(terms))"
   ]
  },
  {
   "cell_type": "markdown",
   "id": "657b6155",
   "metadata": {},
   "source": [
    "5.Sum of Digits\n",
    "Question: Write a function to calculate the sum of digits of a given integer."
   ]
  },
  {
   "cell_type": "code",
   "execution_count": 7,
   "id": "9e7f3a63",
   "metadata": {},
   "outputs": [
    {
     "name": "stdout",
     "output_type": "stream",
     "text": [
      "sum of digits: 5\n"
     ]
    }
   ],
   "source": [
    "def sum_of_digits(number):\n",
    "    total=0\n",
    "    for digit in str(abs(number)):\n",
    "        total+=int(digit)\n",
    "    return total\n",
    "num= int(input(\"Enter an integer: \"))\n",
    "print(\"sum of digits:\", sum_of_digits(num))"
   ]
  },
  {
   "cell_type": "markdown",
   "id": "11b621fc",
   "metadata": {},
   "source": [
    "Convert Decimal to Binary\n",
    "6. Question: Convert a decimal number to its binary representation."
   ]
  },
  {
   "cell_type": "code",
   "execution_count": 11,
   "id": "f3b5b2b3",
   "metadata": {},
   "outputs": [
    {
     "name": "stdout",
     "output_type": "stream",
     "text": [
      "Binary representation: 1010\n"
     ]
    }
   ],
   "source": [
    "def decimal_to_binary(n):\n",
    "    if n == 0:\n",
    "        return \"0\"\n",
    "    binary = \"\"\n",
    "    while n > 0:\n",
    "        remainder = n % 2\n",
    "        binary = str(remainder) + binary\n",
    "        n=n // 2\n",
    "    return binary\n",
    "\n",
    "decimal_number = int(input(\"Enter a decimal number: \"))\n",
    "binary_result = decimal_to_binary(decimal_number)\n",
    "print(f\"Binary representation: {binary_result}\")"
   ]
  },
  {
   "cell_type": "markdown",
   "id": "7f11222b",
   "metadata": {},
   "source": [
    "7.Greatest Common Divisor (GCD)\n",
    "\n",
    "Question: Compute the greatest common divisor of two numbers using Euclid’salgorithm."
   ]
  },
  {
   "cell_type": "code",
   "execution_count": 15,
   "id": "b9ce374b",
   "metadata": {},
   "outputs": [
    {
     "name": "stdout",
     "output_type": "stream",
     "text": [
      "The GCD of 48 and 18 is : 6\n"
     ]
    }
   ],
   "source": [
    "def gcd(a,b):\n",
    "    while b != 0:\n",
    "        a,b = b, a % b\n",
    "    return a\n",
    "num1 = int(input(\"Enter first number: \"))\n",
    "num2 = int(input(\"Enter a second numbet: \"))\n",
    "\n",
    "print (f\"The GCD of {num1} and {num2} is : {gcd(num1,num2)}\")\n"
   ]
  },
  {
   "cell_type": "markdown",
   "id": "1c9456b2",
   "metadata": {},
   "source": [
    "8.Find the Second Largest Number in a List\n",
    "Question: Given a list of numbers, find the second largest number."
   ]
  },
  {
   "cell_type": "code",
   "execution_count": 18,
   "id": "72c81774",
   "metadata": {},
   "outputs": [
    {
     "name": "stdout",
     "output_type": "stream",
     "text": [
      "Second largest number is: 55\n"
     ]
    }
   ],
   "source": [
    "def find_Second_largest (numbers):\n",
    "    unique_numbers = list(set(numbers))\n",
    "    if len(unique_numbers) < 2:\n",
    "        return None\n",
    "    unique_numbers.sort(reverse= True)\n",
    "    return unique_numbers[1]\n",
    "\n",
    "numbers = [10,30,20,55,100]\n",
    "second_largest = find_Second_largest(numbers)\n",
    "print(\"Second largest number is:\", second_largest)"
   ]
  },
  {
   "cell_type": "markdown",
   "id": "8a71a907",
   "metadata": {},
   "source": [
    "9.Count the Number of Digits in a Number\n",
    "Question: Count the number of digits in a given integer."
   ]
  },
  {
   "cell_type": "code",
   "execution_count": 19,
   "id": "78f73293",
   "metadata": {},
   "outputs": [
    {
     "name": "stdout",
     "output_type": "stream",
     "text": [
      "Numnber of digits: 3\n"
     ]
    }
   ],
   "source": [
    "def count_digits(n):\n",
    "    n = abs(n)\n",
    "\n",
    "    if n == 0:\n",
    "        return 1\n",
    "    \n",
    "    count = 0\n",
    "    while n >0:\n",
    "        n //= 10\n",
    "        count +=1\n",
    "\n",
    "    return count\n",
    "\n",
    "number = int(input(\"Enter an integer: \"))\n",
    "print(\"Numnber of digits:\", count_digits(number))"
   ]
  },
  {
   "cell_type": "markdown",
   "id": "f1e6ab54",
   "metadata": {},
   "source": [
    "10. Check if a Number is a Power of Two\n",
    "Question: Determine if a given number is a power of two."
   ]
  },
  {
   "cell_type": "code",
   "execution_count": 2,
   "id": "b72ee23b",
   "metadata": {},
   "outputs": [
    {
     "name": "stdout",
     "output_type": "stream",
     "text": [
      "22 is NOT a power of two.\n"
     ]
    }
   ],
   "source": [
    "def is_power_of_two(n):\n",
    "    if n <= 0:\n",
    "        return False\n",
    "    return (n & (n - 1)) == 0\n",
    "num = int(input(\"Enter a number: \"))\n",
    "if is_power_of_two(num):\n",
    "    print(f\"{num} is a power of two.\")\n",
    "else:\n",
    "    print(f\"{num} is NOT a power of two.\")"
   ]
  },
  {
   "cell_type": "markdown",
   "id": "336b83cd",
   "metadata": {},
   "source": []
  }
 ],
 "metadata": {
  "kernelspec": {
   "display_name": "Python 3 (ipykernel)",
   "language": "python",
   "name": "python3"
  },
  "language_info": {
   "codemirror_mode": {
    "name": "ipython",
    "version": 3
   },
   "file_extension": ".py",
   "mimetype": "text/x-python",
   "name": "python",
   "nbconvert_exporter": "python",
   "pygments_lexer": "ipython3",
   "version": "3.12.6"
  }
 },
 "nbformat": 4,
 "nbformat_minor": 5
}
